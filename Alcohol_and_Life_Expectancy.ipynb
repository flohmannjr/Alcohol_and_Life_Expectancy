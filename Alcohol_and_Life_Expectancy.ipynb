{
  "nbformat": 4,
  "nbformat_minor": 0,
  "metadata": {
    "colab": {
      "provenance": [],
      "toc_visible": true,
      "authorship_tag": "ABX9TyMvycZMTNef35WsUX2tmd7R",
      "include_colab_link": true
    },
    "kernelspec": {
      "name": "python3",
      "display_name": "Python 3"
    },
    "language_info": {
      "name": "python"
    }
  },
  "cells": [
    {
      "cell_type": "markdown",
      "metadata": {
        "id": "view-in-github",
        "colab_type": "text"
      },
      "source": [
        "<a href=\"https://colab.research.google.com/github/flohmannjr/Alcohol_and_Life_Expectancy/blob/main/Alcohol_and_Life_Expectancy.ipynb\" target=\"_parent\"><img src=\"https://colab.research.google.com/assets/colab-badge.svg\" alt=\"Open In Colab\"/></a>"
      ]
    },
    {
      "cell_type": "markdown",
      "source": [
        "# Alcohol and Life Expectancy"
      ],
      "metadata": {
        "id": "TGtDzZ4gxRkK"
      }
    },
    {
      "cell_type": "markdown",
      "source": [
        "Kaggle source: https://www.kaggle.com/datasets/thedevastator/relationship-between-alcohol-consumption-and-lif"
      ],
      "metadata": {
        "id": "ub3lvFQzxVqE"
      }
    },
    {
      "cell_type": "markdown",
      "source": [
        "# Imports"
      ],
      "metadata": {
        "id": "Etz8okTMxnAl"
      }
    },
    {
      "cell_type": "code",
      "source": [
        "import numpy as np\n",
        "import pandas as pd\n",
        "\n",
        "import matplotlib.pyplot as plt\n",
        "import seaborn as sns"
      ],
      "metadata": {
        "id": "tbHTpnTAxrsE"
      },
      "execution_count": 208,
      "outputs": []
    },
    {
      "cell_type": "markdown",
      "source": [
        "# Config"
      ],
      "metadata": {
        "id": "67gfDHA7x330"
      }
    },
    {
      "cell_type": "code",
      "source": [
        "plt.rcParams['figure.figsize'] = [8, 5]\n",
        "plt.rcParams['figure.dpi'] = 100\n",
        "plt.rcParams['xtick.labelsize'] = 'small'\n",
        "\n",
        "plt.style.use('seaborn-darkgrid')\n",
        "\n",
        "SEED = 2008193"
      ],
      "metadata": {
        "id": "wDQWjmz6x9tN"
      },
      "execution_count": 209,
      "outputs": []
    },
    {
      "cell_type": "markdown",
      "source": [
        "# Data"
      ],
      "metadata": {
        "id": "8evkuEntx-0M"
      }
    },
    {
      "cell_type": "code",
      "source": [
        "df_drinks  = pd.read_csv('https://raw.githubusercontent.com/flohmannjr/Alcohol_and_Life_Expectancy/main/drinks.csv')\n",
        "df_lifeexp = pd.read_csv('https://raw.githubusercontent.com/flohmannjr/Alcohol_and_Life_Expectancy/main/lifeexpectancy-verbose.csv')"
      ],
      "metadata": {
        "id": "Hr0MCZ1uyO0c"
      },
      "execution_count": 210,
      "outputs": []
    },
    {
      "cell_type": "code",
      "source": [
        "df_drinks.info()"
      ],
      "metadata": {
        "colab": {
          "base_uri": "https://localhost:8080/"
        },
        "id": "7iniPB5C0y5P",
        "outputId": "7de0687b-eee3-4967-8177-6d872cecdd77"
      },
      "execution_count": 211,
      "outputs": [
        {
          "output_type": "stream",
          "name": "stdout",
          "text": [
            "<class 'pandas.core.frame.DataFrame'>\n",
            "RangeIndex: 193 entries, 0 to 192\n",
            "Data columns (total 6 columns):\n",
            " #   Column                        Non-Null Count  Dtype  \n",
            "---  ------                        --------------  -----  \n",
            " 0   index                         193 non-null    int64  \n",
            " 1   country                       193 non-null    object \n",
            " 2   beer_servings                 193 non-null    int64  \n",
            " 3   spirit_servings               193 non-null    int64  \n",
            " 4   wine_servings                 193 non-null    int64  \n",
            " 5   total_litres_of_pure_alcohol  193 non-null    float64\n",
            "dtypes: float64(1), int64(4), object(1)\n",
            "memory usage: 9.2+ KB\n"
          ]
        }
      ]
    },
    {
      "cell_type": "markdown",
      "source": [
        "| **Column name**              | **Description**                                                  |\n",
        "|------------------------------|------------------------------------------------------------------|\n",
        "| country                      | Name of the country.                                             |\n",
        "| beer_servings                | Number of beer servings per person in the country.               |\n",
        "| spirit_servings              | Number of spirit servings per person in the country.             |\n",
        "| wine_servings                | Number of wine servings per person in the country.               |\n",
        "| total_litres_of_pure_alcohol | Total litres of pure alcohol consumed per person in the country. |"
      ],
      "metadata": {
        "id": "S17W5YdD3DWe"
      }
    },
    {
      "cell_type": "code",
      "source": [
        "df_lifeexp.info()"
      ],
      "metadata": {
        "colab": {
          "base_uri": "https://localhost:8080/"
        },
        "id": "txpDEJ2w099_",
        "outputId": "00c20ae8-5128-42d3-fe24-3ee1f72a62be"
      },
      "execution_count": 212,
      "outputs": [
        {
          "output_type": "stream",
          "name": "stdout",
          "text": [
            "<class 'pandas.core.frame.DataFrame'>\n",
            "RangeIndex: 6408 entries, 0 to 6407\n",
            "Data columns (total 17 columns):\n",
            " #   Column                         Non-Null Count  Dtype  \n",
            "---  ------                         --------------  -----  \n",
            " 0   index                          6408 non-null   int64  \n",
            " 1   GhoCode                        6408 non-null   object \n",
            " 2   GhoDisplay                     6408 non-null   object \n",
            " 3   PublishStateCode               6408 non-null   object \n",
            " 4   PublishStateDisplay            6408 non-null   object \n",
            " 5   YearCode                       6408 non-null   int64  \n",
            " 6   YearDisplay                    6408 non-null   int64  \n",
            " 7   RegionCode                     6408 non-null   object \n",
            " 8   RegionDisplay                  6408 non-null   object \n",
            " 9   WorldBankIncomeGroupGroupCode  5244 non-null   object \n",
            " 10  WorldBankIncomeGroupDisplay    5244 non-null   object \n",
            " 11  CountryCode                    6408 non-null   object \n",
            " 12  CountryDisplay                 6408 non-null   object \n",
            " 13  SexCode                        6408 non-null   object \n",
            " 14  SexDisplay                     6408 non-null   object \n",
            " 15  DisplayValue                   6408 non-null   int64  \n",
            " 16  Numeric                        6408 non-null   float64\n",
            "dtypes: float64(1), int64(4), object(12)\n",
            "memory usage: 851.2+ KB\n"
          ]
        }
      ]
    },
    {
      "cell_type": "markdown",
      "source": [
        "| **Column name**               | **Description**                                 |\n",
        "|-------------------------------|-------------------------------------------------|\n",
        "| GhoCode                       | Global Health Observatory code                  |\n",
        "| GhoDisplay                    | Global Health Observatory display name          |\n",
        "| PublishStateCode              | Publish state code                              |\n",
        "| PublishStateDisplay           | Publish state display name                      |\n",
        "| YearCode                      | Year code                                       |\n",
        "| YearDisplay                   | Year display name                               |\n",
        "| RegionCode                    | Region code                                     |\n",
        "| RegionDisplay                 | Region display name                             |\n",
        "| WorldBankIncomeGroupGroupCode | World Bank Income Group Group Code              |\n",
        "| WorldBankIncomeGroupDisplay   | World Bank Income Group Display Name            |\n",
        "| CountryCode                   | Country code                                    |\n",
        "| CountryDisplay                | Country display name                            |\n",
        "| SexCode                       | Sex code                                        |\n",
        "| SexDisplay                    | Sex display name                                |\n",
        "| DisplayValue                  | Display value                                   |\n",
        "| Numeric                       | Numeric value                                   |"
      ],
      "metadata": {
        "id": "svM9GCtF4A47"
      }
    },
    {
      "cell_type": "markdown",
      "source": [
        "## Countries"
      ],
      "metadata": {
        "id": "7D6ejktm1xQk"
      }
    },
    {
      "cell_type": "code",
      "source": [
        "# New df_lifeexp column with equivalent country names from df_drinks.\n",
        "\n",
        "df_lifeexp['Country'] = df_lifeexp['CountryDisplay']\n",
        "\n",
        "df_lifeexp.loc[df_lifeexp['CountryDisplay'] == 'Antigua and Barbuda',                                  ['Country']] = 'Antigua & Barbuda'\n",
        "df_lifeexp.loc[df_lifeexp['CountryDisplay'] == 'Bolivia (Plurinational State of)',                     ['Country']] = 'Bolivia'\n",
        "df_lifeexp.loc[df_lifeexp['CountryDisplay'] == 'Bosnia and Herzegovina',                               ['Country']] = 'Bosnia-Herzegovina'\n",
        "df_lifeexp.loc[df_lifeexp['CountryDisplay'] == 'Brunei Darussalam',                                    ['Country']] = 'Brunei'\n",
        "df_lifeexp.loc[df_lifeexp['CountryDisplay'] == \"Côte d'Ivoire\",                                        ['Country']] = \"Cote d'Ivoire\"\n",
        "df_lifeexp.loc[df_lifeexp['CountryDisplay'] == \"Democratic People's Republic of Korea\",                ['Country']] = 'North Korea'\n",
        "df_lifeexp.loc[df_lifeexp['CountryDisplay'] == 'Democratic Republic of the Congo',                     ['Country']] = 'DR Congo'\n",
        "df_lifeexp.loc[df_lifeexp['CountryDisplay'] == 'Guinea_Bissau',                                        ['Country']] = 'Guinea-Bissau'\n",
        "df_lifeexp.loc[df_lifeexp['CountryDisplay'] == 'Iran (Islamic Republic of)',                           ['Country']] = 'Iran'\n",
        "df_lifeexp.loc[df_lifeexp['CountryDisplay'] == \"Lao People's Democratic Republic\",                     ['Country']] = 'Laos'\n",
        "df_lifeexp.loc[df_lifeexp['CountryDisplay'] == 'Micronesia (Federated States of)',                     ['Country']] = 'Micronesia'\n",
        "df_lifeexp.loc[df_lifeexp['CountryDisplay'] == 'Republic of Korea',                                    ['Country']] = 'South Korea'\n",
        "df_lifeexp.loc[df_lifeexp['CountryDisplay'] == 'Republic of Moldova',                                  ['Country']] = 'Moldova'\n",
        "df_lifeexp.loc[df_lifeexp['CountryDisplay'] == 'Saint Kitts and Nevis',                                ['Country']] = 'St. Kitts & Nevis'\n",
        "df_lifeexp.loc[df_lifeexp['CountryDisplay'] == 'Saint Lucia',                                          ['Country']] = 'St. Lucia'\n",
        "df_lifeexp.loc[df_lifeexp['CountryDisplay'] == 'Saint Vincent and the Grenadines',                     ['Country']] = 'St. Vincent & the Grenadines'\n",
        "df_lifeexp.loc[df_lifeexp['CountryDisplay'] == 'Sao Tome and Principe',                                ['Country']] = 'Sao Tome & Principe'\n",
        "df_lifeexp.loc[df_lifeexp['CountryDisplay'] == 'Syrian Arab Republic',                                 ['Country']] = 'Syria'\n",
        "df_lifeexp.loc[df_lifeexp['CountryDisplay'] == 'The former Yugoslav republic of Macedonia',            ['Country']] = 'Macedonia'\n",
        "df_lifeexp.loc[df_lifeexp['CountryDisplay'] == 'Timor_Leste',                                          ['Country']] = 'Timor-Leste'\n",
        "df_lifeexp.loc[df_lifeexp['CountryDisplay'] == 'Trinidad and Tobago',                                  ['Country']] = 'Trinidad & Tobago'\n",
        "df_lifeexp.loc[df_lifeexp['CountryDisplay'] == 'United Kingdom of Great Britain and Northern Ireland', ['Country']] = 'United Kingdom'\n",
        "df_lifeexp.loc[df_lifeexp['CountryDisplay'] == 'United Republic of Tanzania',                          ['Country']] = 'Tanzania'\n",
        "df_lifeexp.loc[df_lifeexp['CountryDisplay'] == 'United States of America',                             ['Country']] = 'USA'\n",
        "df_lifeexp.loc[df_lifeexp['CountryDisplay'] == 'Venezuela (Bolivarian Republic of)',                   ['Country']] = 'Venezuela'\n",
        "df_lifeexp.loc[df_lifeexp['CountryDisplay'] == 'Viet Nam',                                             ['Country']] = 'Vietnam'"
      ],
      "metadata": {
        "id": "Bk05ldvwKHxp"
      },
      "execution_count": 213,
      "outputs": []
    },
    {
      "cell_type": "code",
      "source": [
        "# Drop 'South Sudan' from 'Africa'\n",
        "\n",
        "df_lifeexp.drop(df_lifeexp[(df_lifeexp['Country'] == 'South Sudan') &\n",
        "                           (df_lifeexp['RegionCode'] == 'AFR')].index, inplace=True)"
      ],
      "metadata": {
        "id": "PXvkvZCIkGwe"
      },
      "execution_count": 214,
      "outputs": []
    },
    {
      "cell_type": "code",
      "source": [
        "# Countries in df_drinks but not in df_lifeexp\n",
        "\n",
        "df_drinks['country'][~df_drinks['country'].isin(df_lifeexp['Country'])]"
      ],
      "metadata": {
        "colab": {
          "base_uri": "https://localhost:8080/"
        },
        "id": "JFwR8IFiHWcP",
        "outputId": "76aebf55-7d28-46cb-970c-ec72a0182203"
      },
      "execution_count": 215,
      "outputs": [
        {
          "output_type": "execute_result",
          "data": {
            "text/plain": [
              "Series([], Name: country, dtype: object)"
            ]
          },
          "metadata": {},
          "execution_count": 215
        }
      ]
    },
    {
      "cell_type": "code",
      "source": [
        "# Countries in df_lifeexp but not in df_drinks\n",
        "\n",
        "df_lifeexp['Country'][~df_lifeexp['Country'].isin(df_drinks['country'])].unique()"
      ],
      "metadata": {
        "colab": {
          "base_uri": "https://localhost:8080/"
        },
        "id": "BWG9jpaVPUQr",
        "outputId": "269406ff-be3f-4821-a3e9-cba19e9f6490"
      },
      "execution_count": 216,
      "outputs": [
        {
          "output_type": "execute_result",
          "data": {
            "text/plain": [
              "array(['South Sudan'], dtype=object)"
            ]
          },
          "metadata": {},
          "execution_count": 216
        }
      ]
    },
    {
      "cell_type": "markdown",
      "source": [
        "## World Bank Income Groups"
      ],
      "metadata": {
        "id": "uPC2rCANAx4P"
      }
    },
    {
      "cell_type": "code",
      "source": [
        "for i, d in df_lifeexp[df_lifeexp['WorldBankIncomeGroupGroupCode'].isna()].iterrows():\n",
        "    df_lifeexp.loc[df_lifeexp['index'] == i, 'WorldBankIncomeGroupGroupCode'] = df_lifeexp['WorldBankIncomeGroupGroupCode'][df_lifeexp['Country'] == d['Country']].value_counts().idxmax()\n",
        "    df_lifeexp.loc[df_lifeexp['index'] == i, 'WorldBankIncomeGroupDisplay'] = df_lifeexp['WorldBankIncomeGroupDisplay'][df_lifeexp['Country'] == d['Country']].value_counts().idxmax()"
      ],
      "metadata": {
        "id": "VEu7ScwOsBA2"
      },
      "execution_count": 217,
      "outputs": []
    },
    {
      "cell_type": "markdown",
      "source": [
        "## Counts"
      ],
      "metadata": {
        "id": "fRTtq0udnhxr"
      }
    },
    {
      "cell_type": "code",
      "source": [
        "df_lifeexp[['GhoCode', 'GhoDisplay', 'YearDisplay']].value_counts().sort_index()"
      ],
      "metadata": {
        "colab": {
          "base_uri": "https://localhost:8080/"
        },
        "id": "y6RS3slgfYMi",
        "outputId": "409a9487-04fd-48e4-f608-c3ecb7651c14"
      },
      "execution_count": 218,
      "outputs": [
        {
          "output_type": "execute_result",
          "data": {
            "text/plain": [
              "GhoCode        GhoDisplay                                       YearDisplay\n",
              "WHOSIS_000001  Life expectancy at birth (years)                 1990           582\n",
              "                                                                2000           582\n",
              "                                                                2012           582\n",
              "                                                                2013           579\n",
              "WHOSIS_000002  Healthy life expectancy (HALE) at birth (years)  2000           585\n",
              "                                                                2012           585\n",
              "                                                                2013           582\n",
              "WHOSIS_000015  Life expectancy at age 60 (years)                1990           582\n",
              "                                                                2000           582\n",
              "                                                                2012           582\n",
              "                                                                2013           579\n",
              "dtype: int64"
            ]
          },
          "metadata": {},
          "execution_count": 218
        }
      ]
    },
    {
      "cell_type": "code",
      "source": [
        "df_lifeexp['RegionDisplay'].value_counts() / 33"
      ],
      "metadata": {
        "colab": {
          "base_uri": "https://localhost:8080/"
        },
        "id": "MMUbknYTG1fC",
        "outputId": "f4b16cfb-82ee-409c-dd0d-5e27843cc5a6"
      },
      "execution_count": 219,
      "outputs": [
        {
          "output_type": "execute_result",
          "data": {
            "text/plain": [
              "Europe                   53.0\n",
              "Africa                   46.0\n",
              "Americas                 35.0\n",
              "Western Pacific          27.0\n",
              "Eastern Mediterranean    22.0\n",
              "South_East Asia          11.0\n",
              "Name: RegionDisplay, dtype: float64"
            ]
          },
          "metadata": {},
          "execution_count": 219
        }
      ]
    },
    {
      "cell_type": "code",
      "source": [
        "df_lifeexp[['WorldBankIncomeGroupGroupCode', 'WorldBankIncomeGroupDisplay']].value_counts(dropna=False)"
      ],
      "metadata": {
        "colab": {
          "base_uri": "https://localhost:8080/"
        },
        "id": "8NqNElEtnkPd",
        "outputId": "fc4fff33-282b-41f4-a30e-64fc590de0ee"
      },
      "execution_count": 220,
      "outputs": [
        {
          "output_type": "execute_result",
          "data": {
            "text/plain": [
              "WorldBankIncomeGroupGroupCode  WorldBankIncomeGroupDisplay\n",
              "WB_LMI                         Lower_middle_income            1758\n",
              "WB_HI                          High_income                    1683\n",
              "WB_UMI                         Upper_middle_income            1485\n",
              "WB_LI                          Low_income                     1476\n",
              "dtype: int64"
            ]
          },
          "metadata": {},
          "execution_count": 220
        }
      ]
    },
    {
      "cell_type": "code",
      "source": [
        "df_lifeexp[['SexCode', 'SexDisplay']].value_counts()"
      ],
      "metadata": {
        "colab": {
          "base_uri": "https://localhost:8080/"
        },
        "id": "oVoiqn8fnz7w",
        "outputId": "61453e0a-53a8-491d-f33f-3fd34b32cfe5"
      },
      "execution_count": 221,
      "outputs": [
        {
          "output_type": "execute_result",
          "data": {
            "text/plain": [
              "SexCode  SexDisplay\n",
              "BTSX     Both sexes    2134\n",
              "FMLE     Female        2134\n",
              "MLE      Male          2134\n",
              "dtype: int64"
            ]
          },
          "metadata": {},
          "execution_count": 221
        }
      ]
    },
    {
      "cell_type": "code",
      "source": [
        "# display_columns = ['GhoDisplay', 'YearDisplay', 'RegionDisplay', 'Country', 'WorldBankIncomeGroupDisplay', 'SexDisplay', 'Numeric']\n",
        "\n",
        "# df_lifeexp[display_columns][(df_lifeexp['Country'] == 'Brazil') &\n",
        "#                             (df_lifeexp['SexCode'] == 'BTSX')]"
      ],
      "metadata": {
        "id": "ipZAe2EafK6X"
      },
      "execution_count": 222,
      "outputs": []
    },
    {
      "cell_type": "markdown",
      "source": [
        "# Life Expectancy Analisys"
      ],
      "metadata": {
        "id": "QMEw1QI_e5fF"
      }
    },
    {
      "cell_type": "code",
      "source": [
        "df = df_lifeexp[['GhoDisplay', 'YearDisplay', 'RegionDisplay', 'SexDisplay', 'Numeric']].groupby(by=['GhoDisplay', 'YearDisplay', 'RegionDisplay', 'SexDisplay']).mean().sort_index()"
      ],
      "metadata": {
        "id": "GaNngrbxPqve"
      },
      "execution_count": 223,
      "outputs": []
    },
    {
      "cell_type": "code",
      "source": [
        "observatories = df_lifeexp['GhoDisplay'].sort_values().unique()\n",
        "years         = df_lifeexp['YearDisplay'].sort_values().unique()\n",
        "\n",
        "observatories, years"
      ],
      "metadata": {
        "colab": {
          "base_uri": "https://localhost:8080/"
        },
        "id": "Mpbmp4KwTKgD",
        "outputId": "50adc0ff-c1ad-4514-98d8-501bce8653d4"
      },
      "execution_count": 224,
      "outputs": [
        {
          "output_type": "execute_result",
          "data": {
            "text/plain": [
              "(array(['Healthy life expectancy (HALE) at birth (years)',\n",
              "        'Life expectancy at age 60 (years)',\n",
              "        'Life expectancy at birth (years)'], dtype=object),\n",
              " array([1990, 2000, 2012, 2013]))"
            ]
          },
          "metadata": {},
          "execution_count": 224
        }
      ]
    },
    {
      "cell_type": "code",
      "source": [
        "for observatory in observatories:\n",
        "\n",
        "    for year in years:\n",
        "\n",
        "        try:\n",
        "\n",
        "            regions = df.loc[(observatory, year), :]\n",
        "\n",
        "            sns.barplot(data=regions.reset_index(), x='RegionDisplay', y='Numeric', hue='SexDisplay', palette='summer')\n",
        "\n",
        "            plt.title(f'{observatory}, {year}')\n",
        "            plt.xlabel('')\n",
        "            plt.ylabel('Years')\n",
        "\n",
        "            plt.legend(loc=(1.03, 0.82), frameon=True, facecolor='white')\n",
        "\n",
        "            plt.show()\n",
        "\n",
        "            break\n",
        "\n",
        "        except: \n",
        "            pass\n",
        "\n",
        "    break\n"
      ],
      "metadata": {
        "colab": {
          "base_uri": "https://localhost:8080/",
          "height": 451
        },
        "id": "UiTgAP52ikfW",
        "outputId": "1eb8d971-58ca-42fb-816b-5b57ce170f79"
      },
      "execution_count": 225,
      "outputs": [
        {
          "output_type": "display_data",
          "data": {
            "text/plain": [
              "<Figure size 800x500 with 1 Axes>"
            ],
            "image/png": "[encoded data removed]"
          },
          "metadata": {}
        }
      ]
    },
    {
      "cell_type": "code",
      "source": [],
      "metadata": {
        "id": "1K1XuEBHhBOd"
      },
      "execution_count": 225,
      "outputs": []
    }
  ]
}