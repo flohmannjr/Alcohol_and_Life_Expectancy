{
  "nbformat": 4,
  "nbformat_minor": 0,
  "metadata": {
    "colab": {
      "provenance": [],
      "toc_visible": true,
      "authorship_tag": "ABX9TyOu9EnzgYUDbxxTqyiDOlxM",
      "include_colab_link": true
    },
    "kernelspec": {
      "name": "python3",
      "display_name": "Python 3"
    },
    "language_info": {
      "name": "python"
    }
  },
  "cells": [
    {
      "cell_type": "markdown",
      "metadata": {
        "id": "view-in-github",
        "colab_type": "text"
      },
      "source": [
        "<a href=\"https://colab.research.google.com/github/flohmannjr/Alcohol_and_Life_Expectancy/blob/main/Alcohol_and_Life_Expectancy.ipynb\" target=\"_parent\"><img src=\"https://colab.research.google.com/assets/colab-badge.svg\" alt=\"Open In Colab\"/></a>"
      ]
    },
    {
      "cell_type": "markdown",
      "source": [
        "# Alcohol and Life Expectancy"
      ],
      "metadata": {
        "id": "TGtDzZ4gxRkK"
      }
    },
    {
      "cell_type": "markdown",
      "source": [
        "Kaggle source: https://www.kaggle.com/datasets/thedevastator/relationship-between-alcohol-consumption-and-lif"
      ],
      "metadata": {
        "id": "ub3lvFQzxVqE"
      }
    },
    {
      "cell_type": "markdown",
      "source": [
        "# Imports"
      ],
      "metadata": {
        "id": "Etz8okTMxnAl"
      }
    },
    {
      "cell_type": "code",
      "source": [
        "import numpy as np\n",
        "import pandas as pd\n",
        "\n",
        "import matplotlib.pyplot as plt\n",
        "import seaborn as sns"
      ],
      "metadata": {
        "id": "tbHTpnTAxrsE"
      },
      "execution_count": 1,
      "outputs": []
    },
    {
      "cell_type": "markdown",
      "source": [
        "# Config"
      ],
      "metadata": {
        "id": "67gfDHA7x330"
      }
    },
    {
      "cell_type": "code",
      "source": [
        "plt.rcParams['figure.figsize'] = [8, 5]\n",
        "plt.rcParams['figure.dpi'] = 100\n",
        "\n",
        "plt.style.use('seaborn-darkgrid')\n",
        "\n",
        "SEED = 2008193"
      ],
      "metadata": {
        "id": "wDQWjmz6x9tN"
      },
      "execution_count": 2,
      "outputs": []
    },
    {
      "cell_type": "markdown",
      "source": [
        "# Data"
      ],
      "metadata": {
        "id": "8evkuEntx-0M"
      }
    },
    {
      "cell_type": "code",
      "source": [
        "df_drinks  = pd.read_csv('https://raw.githubusercontent.com/flohmannjr/Alcohol_and_Life_Expectancy/main/drinks.csv')\n",
        "df_lifeexp = pd.read_csv('https://raw.githubusercontent.com/flohmannjr/Alcohol_and_Life_Expectancy/main/lifeexpectancy-verbose.csv')"
      ],
      "metadata": {
        "id": "Hr0MCZ1uyO0c"
      },
      "execution_count": 3,
      "outputs": []
    },
    {
      "cell_type": "code",
      "source": [
        "df_drinks.info()"
      ],
      "metadata": {
        "colab": {
          "base_uri": "https://localhost:8080/"
        },
        "id": "7iniPB5C0y5P",
        "outputId": "9e3ad50e-c759-4fd4-a183-c6b090dec1dd"
      },
      "execution_count": 4,
      "outputs": [
        {
          "output_type": "stream",
          "name": "stdout",
          "text": [
            "<class 'pandas.core.frame.DataFrame'>\n",
            "RangeIndex: 193 entries, 0 to 192\n",
            "Data columns (total 6 columns):\n",
            " #   Column                        Non-Null Count  Dtype  \n",
            "---  ------                        --------------  -----  \n",
            " 0   index                         193 non-null    int64  \n",
            " 1   country                       193 non-null    object \n",
            " 2   beer_servings                 193 non-null    int64  \n",
            " 3   spirit_servings               193 non-null    int64  \n",
            " 4   wine_servings                 193 non-null    int64  \n",
            " 5   total_litres_of_pure_alcohol  193 non-null    float64\n",
            "dtypes: float64(1), int64(4), object(1)\n",
            "memory usage: 9.2+ KB\n"
          ]
        }
      ]
    },
    {
      "cell_type": "markdown",
      "source": [
        "| **Column name**              | **Description**                                                  |\n",
        "|------------------------------|------------------------------------------------------------------|\n",
        "| country                      | Name of the country.                                             |\n",
        "| beer_servings                | Number of beer servings per person in the country.               |\n",
        "| spirit_servings              | Number of spirit servings per person in the country.             |\n",
        "| wine_servings                | Number of wine servings per person in the country.               |\n",
        "| total_litres_of_pure_alcohol | Total litres of pure alcohol consumed per person in the country. |"
      ],
      "metadata": {
        "id": "S17W5YdD3DWe"
      }
    },
    {
      "cell_type": "code",
      "source": [
        "df_lifeexp.info()"
      ],
      "metadata": {
        "colab": {
          "base_uri": "https://localhost:8080/"
        },
        "id": "txpDEJ2w099_",
        "outputId": "15a2639a-c9b6-4052-d9e0-73aaef1abc98"
      },
      "execution_count": 5,
      "outputs": [
        {
          "output_type": "stream",
          "name": "stdout",
          "text": [
            "<class 'pandas.core.frame.DataFrame'>\n",
            "RangeIndex: 6408 entries, 0 to 6407\n",
            "Data columns (total 17 columns):\n",
            " #   Column                         Non-Null Count  Dtype  \n",
            "---  ------                         --------------  -----  \n",
            " 0   index                          6408 non-null   int64  \n",
            " 1   GhoCode                        6408 non-null   object \n",
            " 2   GhoDisplay                     6408 non-null   object \n",
            " 3   PublishStateCode               6408 non-null   object \n",
            " 4   PublishStateDisplay            6408 non-null   object \n",
            " 5   YearCode                       6408 non-null   int64  \n",
            " 6   YearDisplay                    6408 non-null   int64  \n",
            " 7   RegionCode                     6408 non-null   object \n",
            " 8   RegionDisplay                  6408 non-null   object \n",
            " 9   WorldBankIncomeGroupGroupCode  5244 non-null   object \n",
            " 10  WorldBankIncomeGroupDisplay    5244 non-null   object \n",
            " 11  CountryCode                    6408 non-null   object \n",
            " 12  CountryDisplay                 6408 non-null   object \n",
            " 13  SexCode                        6408 non-null   object \n",
            " 14  SexDisplay                     6408 non-null   object \n",
            " 15  DisplayValue                   6408 non-null   int64  \n",
            " 16  Numeric                        6408 non-null   float64\n",
            "dtypes: float64(1), int64(4), object(12)\n",
            "memory usage: 851.2+ KB\n"
          ]
        }
      ]
    },
    {
      "cell_type": "markdown",
      "source": [
        "| **Column name**               | **Description**                                 |\n",
        "|-------------------------------|-------------------------------------------------|\n",
        "| GhoCode                       | Global Health Observatory code                  |\n",
        "| GhoDisplay                    | Global Health Observatory display name          |\n",
        "| PublishStateCode              | Publish state code                              |\n",
        "| PublishStateDisplay           | Publish state display name                      |\n",
        "| YearCode                      | Year code                                       |\n",
        "| YearDisplay                   | Year display name                               |\n",
        "| RegionCode                    | Region code                                     |\n",
        "| RegionDisplay                 | Region display name                             |\n",
        "| WorldBankIncomeGroupGroupCode | World Bank Income Group Group Code              |\n",
        "| WorldBankIncomeGroupDisplay   | World Bank Income Group Display Name            |\n",
        "| CountryCode                   | Country code                                    |\n",
        "| CountryDisplay                | Country display name                            |\n",
        "| SexCode                       | Sex code                                        |\n",
        "| SexDisplay                    | Sex display name                                |\n",
        "| DisplayValue                  | Display value                                   |\n",
        "| Numeric                       | Numeric value                                   |"
      ],
      "metadata": {
        "id": "svM9GCtF4A47"
      }
    },
    {
      "cell_type": "markdown",
      "source": [
        "## Countries"
      ],
      "metadata": {
        "id": "7D6ejktm1xQk"
      }
    },
    {
      "cell_type": "code",
      "source": [
        "# New df_lifeexp column with equivalent country names from df_drinks.\n",
        "\n",
        "df_lifeexp['Country'] = df_lifeexp['CountryDisplay']\n",
        "\n",
        "df_lifeexp.loc[df_lifeexp['CountryDisplay'] == 'Antigua and Barbuda',                                  ['Country']] = 'Antigua & Barbuda'\n",
        "df_lifeexp.loc[df_lifeexp['CountryDisplay'] == 'Bolivia (Plurinational State of)',                     ['Country']] = 'Bolivia'\n",
        "df_lifeexp.loc[df_lifeexp['CountryDisplay'] == 'Bosnia and Herzegovina',                               ['Country']] = 'Bosnia-Herzegovina'\n",
        "df_lifeexp.loc[df_lifeexp['CountryDisplay'] == 'Brunei Darussalam',                                    ['Country']] = 'Brunei'\n",
        "df_lifeexp.loc[df_lifeexp['CountryDisplay'] == \"Côte d'Ivoire\",                                        ['Country']] = \"Cote d'Ivoire\"\n",
        "df_lifeexp.loc[df_lifeexp['CountryDisplay'] == \"Democratic People's Republic of Korea\",                ['Country']] = 'North Korea'\n",
        "df_lifeexp.loc[df_lifeexp['CountryDisplay'] == 'Democratic Republic of the Congo',                     ['Country']] = 'DR Congo'\n",
        "df_lifeexp.loc[df_lifeexp['CountryDisplay'] == 'Guinea_Bissau',                                        ['Country']] = 'Guinea-Bissau'\n",
        "df_lifeexp.loc[df_lifeexp['CountryDisplay'] == 'Iran (Islamic Republic of)',                           ['Country']] = 'Iran'\n",
        "df_lifeexp.loc[df_lifeexp['CountryDisplay'] == \"Lao People's Democratic Republic\",                     ['Country']] = 'Laos'\n",
        "df_lifeexp.loc[df_lifeexp['CountryDisplay'] == 'Micronesia (Federated States of)',                     ['Country']] = 'Micronesia'\n",
        "df_lifeexp.loc[df_lifeexp['CountryDisplay'] == 'Republic of Korea',                                    ['Country']] = 'South Korea'\n",
        "df_lifeexp.loc[df_lifeexp['CountryDisplay'] == 'Republic of Moldova',                                  ['Country']] = 'Moldova'\n",
        "df_lifeexp.loc[df_lifeexp['CountryDisplay'] == 'Saint Kitts and Nevis',                                ['Country']] = 'St. Kitts & Nevis'\n",
        "df_lifeexp.loc[df_lifeexp['CountryDisplay'] == 'Saint Lucia',                                          ['Country']] = 'St. Lucia'\n",
        "df_lifeexp.loc[df_lifeexp['CountryDisplay'] == 'Saint Vincent and the Grenadines',                     ['Country']] = 'St. Vincent & the Grenadines'\n",
        "df_lifeexp.loc[df_lifeexp['CountryDisplay'] == 'Sao Tome and Principe',                                ['Country']] = 'Sao Tome & Principe'\n",
        "df_lifeexp.loc[df_lifeexp['CountryDisplay'] == 'Syrian Arab Republic',                                 ['Country']] = 'Syria'\n",
        "df_lifeexp.loc[df_lifeexp['CountryDisplay'] == 'The former Yugoslav republic of Macedonia',            ['Country']] = 'Macedonia'\n",
        "df_lifeexp.loc[df_lifeexp['CountryDisplay'] == 'Timor_Leste',                                          ['Country']] = 'Timor-Leste'\n",
        "df_lifeexp.loc[df_lifeexp['CountryDisplay'] == 'Trinidad and Tobago',                                  ['Country']] = 'Trinidad & Tobago'\n",
        "df_lifeexp.loc[df_lifeexp['CountryDisplay'] == 'United Kingdom of Great Britain and Northern Ireland', ['Country']] = 'United Kingdom'\n",
        "df_lifeexp.loc[df_lifeexp['CountryDisplay'] == 'United Republic of Tanzania',                          ['Country']] = 'Tanzania'\n",
        "df_lifeexp.loc[df_lifeexp['CountryDisplay'] == 'United States of America',                             ['Country']] = 'USA'\n",
        "df_lifeexp.loc[df_lifeexp['CountryDisplay'] == 'Venezuela (Bolivarian Republic of)',                   ['Country']] = 'Venezuela'\n",
        "df_lifeexp.loc[df_lifeexp['CountryDisplay'] == 'Viet Nam',                                             ['Country']] = 'Vietnam'"
      ],
      "metadata": {
        "id": "Bk05ldvwKHxp"
      },
      "execution_count": 6,
      "outputs": []
    },
    {
      "cell_type": "code",
      "source": [
        "# Drop 'South Sudan' from 'Africa'\n",
        "\n",
        "df_lifeexp.drop(df_lifeexp[(df_lifeexp['Country'] == 'South Sudan') &\n",
        "                           (df_lifeexp['RegionCode'] == 'AFR')].index, inplace=True)"
      ],
      "metadata": {
        "id": "PXvkvZCIkGwe"
      },
      "execution_count": 7,
      "outputs": []
    },
    {
      "cell_type": "code",
      "source": [
        "# Countries in df_drinks but not in df_lifeexp\n",
        "\n",
        "df_drinks['country'][~df_drinks['country'].isin(df_lifeexp['Country'])]"
      ],
      "metadata": {
        "colab": {
          "base_uri": "https://localhost:8080/"
        },
        "id": "JFwR8IFiHWcP",
        "outputId": "94cca19f-8efd-4f06-dcd2-4e3878418064"
      },
      "execution_count": 8,
      "outputs": [
        {
          "output_type": "execute_result",
          "data": {
            "text/plain": [
              "Series([], Name: country, dtype: object)"
            ]
          },
          "metadata": {},
          "execution_count": 8
        }
      ]
    },
    {
      "cell_type": "code",
      "source": [
        "# Countries in df_lifeexp but not in df_drinks\n",
        "\n",
        "df_lifeexp['Country'][~df_lifeexp['Country'].isin(df_drinks['country'])].unique()"
      ],
      "metadata": {
        "colab": {
          "base_uri": "https://localhost:8080/"
        },
        "id": "BWG9jpaVPUQr",
        "outputId": "55b910f3-204b-4d33-f489-d9e2400a6cd4"
      },
      "execution_count": 9,
      "outputs": [
        {
          "output_type": "execute_result",
          "data": {
            "text/plain": [
              "array(['South Sudan'], dtype=object)"
            ]
          },
          "metadata": {},
          "execution_count": 9
        }
      ]
    },
    {
      "cell_type": "markdown",
      "source": [
        "## World Bank Income Groups"
      ],
      "metadata": {
        "id": "uPC2rCANAx4P"
      }
    },
    {
      "cell_type": "code",
      "source": [
        "for i, d in df_lifeexp[df_lifeexp['WorldBankIncomeGroupGroupCode'].isna()].iterrows():\n",
        "    df_lifeexp.loc[df_lifeexp['index'] == i, 'WorldBankIncomeGroupGroupCode'] = df_lifeexp['WorldBankIncomeGroupGroupCode'][df_lifeexp['Country'] == d['Country']].value_counts().idxmax()\n",
        "    df_lifeexp.loc[df_lifeexp['index'] == i, 'WorldBankIncomeGroupDisplay'] = df_lifeexp['WorldBankIncomeGroupDisplay'][df_lifeexp['Country'] == d['Country']].value_counts().idxmax()"
      ],
      "metadata": {
        "id": "VEu7ScwOsBA2"
      },
      "execution_count": 10,
      "outputs": []
    },
    {
      "cell_type": "markdown",
      "source": [
        "## Counts"
      ],
      "metadata": {
        "id": "fRTtq0udnhxr"
      }
    },
    {
      "cell_type": "code",
      "source": [
        "df_lifeexp[['GhoCode', 'GhoDisplay', 'YearDisplay']].value_counts().sort_index()"
      ],
      "metadata": {
        "colab": {
          "base_uri": "https://localhost:8080/"
        },
        "id": "y6RS3slgfYMi",
        "outputId": "6e525031-c082-4ae4-dd77-9d42d35122a8"
      },
      "execution_count": 11,
      "outputs": [
        {
          "output_type": "execute_result",
          "data": {
            "text/plain": [
              "GhoCode        GhoDisplay                                       YearDisplay\n",
              "WHOSIS_000001  Life expectancy at birth (years)                 1990           582\n",
              "                                                                2000           582\n",
              "                                                                2012           582\n",
              "                                                                2013           579\n",
              "WHOSIS_000002  Healthy life expectancy (HALE) at birth (years)  2000           585\n",
              "                                                                2012           585\n",
              "                                                                2013           582\n",
              "WHOSIS_000015  Life expectancy at age 60 (years)                1990           582\n",
              "                                                                2000           582\n",
              "                                                                2012           582\n",
              "                                                                2013           579\n",
              "dtype: int64"
            ]
          },
          "metadata": {},
          "execution_count": 11
        }
      ]
    },
    {
      "cell_type": "code",
      "source": [
        "df_lifeexp['RegionDisplay'].value_counts() / 33"
      ],
      "metadata": {
        "colab": {
          "base_uri": "https://localhost:8080/"
        },
        "id": "MMUbknYTG1fC",
        "outputId": "d1f6831a-b350-4bf9-ed25-edb0d69a32d2"
      },
      "execution_count": 12,
      "outputs": [
        {
          "output_type": "execute_result",
          "data": {
            "text/plain": [
              "Europe                   53.0\n",
              "Africa                   46.0\n",
              "Americas                 35.0\n",
              "Western Pacific          27.0\n",
              "Eastern Mediterranean    22.0\n",
              "South_East Asia          11.0\n",
              "Name: RegionDisplay, dtype: float64"
            ]
          },
          "metadata": {},
          "execution_count": 12
        }
      ]
    },
    {
      "cell_type": "code",
      "source": [
        "df_lifeexp[['WorldBankIncomeGroupGroupCode', 'WorldBankIncomeGroupDisplay']].value_counts(dropna=False)"
      ],
      "metadata": {
        "colab": {
          "base_uri": "https://localhost:8080/"
        },
        "id": "8NqNElEtnkPd",
        "outputId": "27a07431-5de9-4760-8798-d3bb442050a9"
      },
      "execution_count": 13,
      "outputs": [
        {
          "output_type": "execute_result",
          "data": {
            "text/plain": [
              "WorldBankIncomeGroupGroupCode  WorldBankIncomeGroupDisplay\n",
              "WB_LMI                         Lower_middle_income            1758\n",
              "WB_HI                          High_income                    1683\n",
              "WB_UMI                         Upper_middle_income            1485\n",
              "WB_LI                          Low_income                     1476\n",
              "dtype: int64"
            ]
          },
          "metadata": {},
          "execution_count": 13
        }
      ]
    },
    {
      "cell_type": "code",
      "source": [
        "df_lifeexp[['SexCode', 'SexDisplay']].value_counts()"
      ],
      "metadata": {
        "colab": {
          "base_uri": "https://localhost:8080/"
        },
        "id": "oVoiqn8fnz7w",
        "outputId": "b60a380a-3931-4848-8ba4-528727a82151"
      },
      "execution_count": 14,
      "outputs": [
        {
          "output_type": "execute_result",
          "data": {
            "text/plain": [
              "SexCode  SexDisplay\n",
              "BTSX     Both sexes    2134\n",
              "FMLE     Female        2134\n",
              "MLE      Male          2134\n",
              "dtype: int64"
            ]
          },
          "metadata": {},
          "execution_count": 14
        }
      ]
    },
    {
      "cell_type": "code",
      "source": [
        "# display_columns = ['GhoDisplay', 'YearDisplay', 'RegionDisplay', 'Country', 'WorldBankIncomeGroupDisplay', 'SexDisplay', 'Numeric']\n",
        "\n",
        "# df_lifeexp[display_columns][(df_lifeexp['Country'] == 'Brazil') &\n",
        "#                             (df_lifeexp['SexCode'] == 'BTSX')]"
      ],
      "metadata": {
        "id": "ipZAe2EafK6X"
      },
      "execution_count": 15,
      "outputs": []
    },
    {
      "cell_type": "markdown",
      "source": [
        "# Life Expectancy Analisys"
      ],
      "metadata": {
        "id": "QMEw1QI_e5fF"
      }
    },
    {
      "cell_type": "code",
      "source": [
        "df = df_lifeexp[['GhoDisplay', 'YearDisplay', 'RegionDisplay', 'SexDisplay', 'Numeric']].groupby(by=['GhoDisplay', 'YearDisplay', 'RegionDisplay', 'SexDisplay']).mean().sort_index()"
      ],
      "metadata": {
        "id": "GaNngrbxPqve"
      },
      "execution_count": 16,
      "outputs": []
    },
    {
      "cell_type": "code",
      "source": [
        "df"
      ],
      "metadata": {
        "colab": {
          "base_uri": "https://localhost:8080/",
          "height": 455
        },
        "id": "KxngY2W4XAgV",
        "outputId": "e51010e3-dbfc-48ef-f257-e63d797fa356"
      },
      "execution_count": 17,
      "outputs": [
        {
          "output_type": "execute_result",
          "data": {
            "text/plain": [
              "                                                                                          Numeric\n",
              "GhoDisplay                                      YearDisplay RegionDisplay   SexDisplay           \n",
              "Healthy life expectancy (HALE) at birth (years) 2000        Africa          Both sexes  44.956522\n",
              "                                                                            Female      45.832609\n",
              "                                                                            Male        44.117391\n",
              "                                                            Americas        Both sexes  62.682857\n",
              "                                                                            Female      64.660000\n",
              "...                                                                                           ...\n",
              "Life expectancy at birth (years)                2013        South_East Asia Female      72.482781\n",
              "                                                                            Male        68.512405\n",
              "                                                            Western Pacific Both sexes  73.533591\n",
              "                                                                            Female      75.968239\n",
              "                                                                            Male        71.229499\n",
              "\n",
              "[198 rows x 1 columns]"
            ],
            "text/html": [
              "\n",
              "  <div id=\"df-d4f26775-9d46-4e35-ba64-94ecef018403\">\n",
              "    <div class=\"colab-df-container\">\n",
              "      <div>\n",
              "<style scoped>\n",
              "    .dataframe tbody tr th:only-of-type {\n",
              "        vertical-align: middle;\n",
              "    }\n",
              "\n",
              "    .dataframe tbody tr th {\n",
              "        vertical-align: top;\n",
              "    }\n",
              "\n",
              "    .dataframe thead th {\n",
              "        text-align: right;\n",
              "    }\n",
              "</style>\n",
              "<table border=\"1\" class=\"dataframe\">\n",
              "  <thead>\n",
              "    <tr style=\"text-align: right;\">\n",
              "      <th></th>\n",
              "      <th></th>\n",
              "      <th></th>\n",
              "      <th></th>\n",
              "      <th>Numeric</th>\n",
              "    </tr>\n",
              "    <tr>\n",
              "      <th>GhoDisplay</th>\n",
              "      <th>YearDisplay</th>\n",
              "      <th>RegionDisplay</th>\n",
              "      <th>SexDisplay</th>\n",
              "      <th></th>\n",
              "    </tr>\n",
              "  </thead>\n",
              "  <tbody>\n",
              "    <tr>\n",
              "      <th rowspan=\"5\" valign=\"top\">Healthy life expectancy (HALE) at birth (years)</th>\n",
              "      <th rowspan=\"5\" valign=\"top\">2000</th>\n",
              "      <th rowspan=\"3\" valign=\"top\">Africa</th>\n",
              "      <th>Both sexes</th>\n",
              "      <td>44.956522</td>\n",
              "    </tr>\n",
              "    <tr>\n",
              "      <th>Female</th>\n",
              "      <td>45.832609</td>\n",
              "    </tr>\n",
              "    <tr>\n",
              "      <th>Male</th>\n",
              "      <td>44.117391</td>\n",
              "    </tr>\n",
              "    <tr>\n",
              "      <th rowspan=\"2\" valign=\"top\">Americas</th>\n",
              "      <th>Both sexes</th>\n",
              "      <td>62.682857</td>\n",
              "    </tr>\n",
              "    <tr>\n",
              "      <th>Female</th>\n",
              "      <td>64.660000</td>\n",
              "    </tr>\n",
              "    <tr>\n",
              "      <th>...</th>\n",
              "      <th>...</th>\n",
              "      <th>...</th>\n",
              "      <th>...</th>\n",
              "      <td>...</td>\n",
              "    </tr>\n",
              "    <tr>\n",
              "      <th rowspan=\"5\" valign=\"top\">Life expectancy at birth (years)</th>\n",
              "      <th rowspan=\"5\" valign=\"top\">2013</th>\n",
              "      <th rowspan=\"2\" valign=\"top\">South_East Asia</th>\n",
              "      <th>Female</th>\n",
              "      <td>72.482781</td>\n",
              "    </tr>\n",
              "    <tr>\n",
              "      <th>Male</th>\n",
              "      <td>68.512405</td>\n",
              "    </tr>\n",
              "    <tr>\n",
              "      <th rowspan=\"3\" valign=\"top\">Western Pacific</th>\n",
              "      <th>Both sexes</th>\n",
              "      <td>73.533591</td>\n",
              "    </tr>\n",
              "    <tr>\n",
              "      <th>Female</th>\n",
              "      <td>75.968239</td>\n",
              "    </tr>\n",
              "    <tr>\n",
              "      <th>Male</th>\n",
              "      <td>71.229499</td>\n",
              "    </tr>\n",
              "  </tbody>\n",
              "</table>\n",
              "<p>198 rows × 1 columns</p>\n",
              "</div>\n",
              "      <button class=\"colab-df-convert\" onclick=\"convertToInteractive('df-d4f26775-9d46-4e35-ba64-94ecef018403')\"\n",
              "              title=\"Convert this dataframe to an interactive table.\"\n",
              "              style=\"display:none;\">\n",
              "        \n",
              "  <svg xmlns=\"http://www.w3.org/2000/svg\" height=\"24px\"viewBox=\"0 0 24 24\"\n",
              "       width=\"24px\">\n",
              "    <path d=\"M0 0h24v24H0V0z\" fill=\"none\"/>\n",
              "    <path d=\"M18.56 5.44l.94 2.06.94-2.06 2.06-.94-2.06-.94-.94-2.06-.94 2.06-2.06.94zm-11 1L8.5 8.5l.94-2.06 2.06-.94-2.06-.94L8.5 2.5l-.94 2.06-2.06.94zm10 10l.94 2.06.94-2.06 2.06-.94-2.06-.94-.94-2.06-.94 2.06-2.06.94z\"/><path d=\"M17.41 7.96l-1.37-1.37c-.4-.4-.92-.59-1.43-.59-.52 0-1.04.2-1.43.59L10.3 9.45l-7.72 7.72c-.78.78-.78 2.05 0 2.83L4 21.41c.39.39.9.59 1.41.59.51 0 1.02-.2 1.41-.59l7.78-7.78 2.81-2.81c.8-.78.8-2.07 0-2.86zM5.41 20L4 18.59l7.72-7.72 1.47 1.35L5.41 20z\"/>\n",
              "  </svg>\n",
              "      </button>\n",
              "      \n",
              "  <style>\n",
              "    .colab-df-container {\n",
              "      display:flex;\n",
              "      flex-wrap:wrap;\n",
              "      gap: 12px;\n",
              "    }\n",
              "\n",
              "    .colab-df-convert {\n",
              "      background-color: #E8F0FE;\n",
              "      border: none;\n",
              "      border-radius: 50%;\n",
              "      cursor: pointer;\n",
              "      display: none;\n",
              "      fill: #1967D2;\n",
              "      height: 32px;\n",
              "      padding: 0 0 0 0;\n",
              "      width: 32px;\n",
              "    }\n",
              "\n",
              "    .colab-df-convert:hover {\n",
              "      background-color: #E2EBFA;\n",
              "      box-shadow: 0px 1px 2px rgba(60, 64, 67, 0.3), 0px 1px 3px 1px rgba(60, 64, 67, 0.15);\n",
              "      fill: #174EA6;\n",
              "    }\n",
              "\n",
              "    [theme=dark] .colab-df-convert {\n",
              "      background-color: #3B4455;\n",
              "      fill: #D2E3FC;\n",
              "    }\n",
              "\n",
              "    [theme=dark] .colab-df-convert:hover {\n",
              "      background-color: #434B5C;\n",
              "      box-shadow: 0px 1px 3px 1px rgba(0, 0, 0, 0.15);\n",
              "      filter: drop-shadow(0px 1px 2px rgba(0, 0, 0, 0.3));\n",
              "      fill: #FFFFFF;\n",
              "    }\n",
              "  </style>\n",
              "\n",
              "      <script>\n",
              "        const buttonEl =\n",
              "          document.querySelector('#df-d4f26775-9d46-4e35-ba64-94ecef018403 button.colab-df-convert');\n",
              "        buttonEl.style.display =\n",
              "          google.colab.kernel.accessAllowed ? 'block' : 'none';\n",
              "\n",
              "        async function convertToInteractive(key) {\n",
              "          const element = document.querySelector('#df-d4f26775-9d46-4e35-ba64-94ecef018403');\n",
              "          const dataTable =\n",
              "            await google.colab.kernel.invokeFunction('convertToInteractive',\n",
              "                                                     [key], {});\n",
              "          if (!dataTable) return;\n",
              "\n",
              "          const docLinkHtml = 'Like what you see? Visit the ' +\n",
              "            '<a target=\"_blank\" href=https://colab.research.google.com/notebooks/data_table.ipynb>data table notebook</a>'\n",
              "            + ' to learn more about interactive tables.';\n",
              "          element.innerHTML = '';\n",
              "          dataTable['output_type'] = 'display_data';\n",
              "          await google.colab.output.renderOutput(dataTable, element);\n",
              "          const docLink = document.createElement('div');\n",
              "          docLink.innerHTML = docLinkHtml;\n",
              "          element.appendChild(docLink);\n",
              "        }\n",
              "      </script>\n",
              "    </div>\n",
              "  </div>\n",
              "  "
            ]
          },
          "metadata": {},
          "execution_count": 17
        }
      ]
    },
    {
      "cell_type": "code",
      "source": [
        "for gho, _ in df.groupby(level=0):\n",
        "\n",
        "    years = df.loc[(gho), :]\n",
        "    # print(gho)\n",
        "    # print(years)\n",
        "    # break\n",
        "\n",
        "    for year, _ in years.groupby(level=0):\n",
        "\n",
        "        regions = df.loc[(gho, year), :]\n",
        "        # print(year)\n",
        "        # print(regions)\n",
        "        # break\n",
        "\n",
        "        for region, _ in regions.groupby(level=0):\n",
        "\n",
        "            sexes = df.loc[(gho, year, region), :]\n",
        "            # print(region)\n",
        "            # print(sexes)\n",
        "            # break\n",
        "\n",
        "            # for sex, _ in sexes.groupby(level=0):\n",
        "\n",
        "            #     expectancy = df.loc[(gho, year, region, sex)]\n",
        "            #     # print(expectancy)\n",
        "            #     break\n",
        "\n",
        "            break\n",
        "\n",
        "        break\n",
        "\n",
        "    break\n"
      ],
      "metadata": {
        "id": "UiTgAP52ikfW"
      },
      "execution_count": 38,
      "outputs": []
    },
    {
      "cell_type": "code",
      "source": [
        "# expectancy[0]"
      ],
      "metadata": {
        "colab": {
          "base_uri": "https://localhost:8080/"
        },
        "id": "XwQf7brS-H6Y",
        "outputId": "2ca8a7db-9883-4715-da01-5ea1e3b4942c"
      },
      "execution_count": 40,
      "outputs": [
        {
          "output_type": "execute_result",
          "data": {
            "text/plain": [
              "44.95652173913044"
            ]
          },
          "metadata": {},
          "execution_count": 40
        }
      ]
    },
    {
      "cell_type": "code",
      "source": [
        "sexes"
      ],
      "metadata": {
        "colab": {
          "base_uri": "https://localhost:8080/",
          "height": 175
        },
        "id": "-4PhyhJlKx4l",
        "outputId": "12090b02-db4e-4ab5-c4e6-e4e6548d2ace"
      },
      "execution_count": 41,
      "outputs": [
        {
          "output_type": "execute_result",
          "data": {
            "text/plain": [
              "              Numeric\n",
              "SexDisplay           \n",
              "Both sexes  44.956522\n",
              "Female      45.832609\n",
              "Male        44.117391"
            ],
            "text/html": [
              "\n",
              "  <div id=\"df-5c943b71-b058-4bca-a4f6-1a944937167f\">\n",
              "    <div class=\"colab-df-container\">\n",
              "      <div>\n",
              "<style scoped>\n",
              "    .dataframe tbody tr th:only-of-type {\n",
              "        vertical-align: middle;\n",
              "    }\n",
              "\n",
              "    .dataframe tbody tr th {\n",
              "        vertical-align: top;\n",
              "    }\n",
              "\n",
              "    .dataframe thead th {\n",
              "        text-align: right;\n",
              "    }\n",
              "</style>\n",
              "<table border=\"1\" class=\"dataframe\">\n",
              "  <thead>\n",
              "    <tr style=\"text-align: right;\">\n",
              "      <th></th>\n",
              "      <th>Numeric</th>\n",
              "    </tr>\n",
              "    <tr>\n",
              "      <th>SexDisplay</th>\n",
              "      <th></th>\n",
              "    </tr>\n",
              "  </thead>\n",
              "  <tbody>\n",
              "    <tr>\n",
              "      <th>Both sexes</th>\n",
              "      <td>44.956522</td>\n",
              "    </tr>\n",
              "    <tr>\n",
              "      <th>Female</th>\n",
              "      <td>45.832609</td>\n",
              "    </tr>\n",
              "    <tr>\n",
              "      <th>Male</th>\n",
              "      <td>44.117391</td>\n",
              "    </tr>\n",
              "  </tbody>\n",
              "</table>\n",
              "</div>\n",
              "      <button class=\"colab-df-convert\" onclick=\"convertToInteractive('df-5c943b71-b058-4bca-a4f6-1a944937167f')\"\n",
              "              title=\"Convert this dataframe to an interactive table.\"\n",
              "              style=\"display:none;\">\n",
              "        \n",
              "  <svg xmlns=\"http://www.w3.org/2000/svg\" height=\"24px\"viewBox=\"0 0 24 24\"\n",
              "       width=\"24px\">\n",
              "    <path d=\"M0 0h24v24H0V0z\" fill=\"none\"/>\n",
              "    <path d=\"M18.56 5.44l.94 2.06.94-2.06 2.06-.94-2.06-.94-.94-2.06-.94 2.06-2.06.94zm-11 1L8.5 8.5l.94-2.06 2.06-.94-2.06-.94L8.5 2.5l-.94 2.06-2.06.94zm10 10l.94 2.06.94-2.06 2.06-.94-2.06-.94-.94-2.06-.94 2.06-2.06.94z\"/><path d=\"M17.41 7.96l-1.37-1.37c-.4-.4-.92-.59-1.43-.59-.52 0-1.04.2-1.43.59L10.3 9.45l-7.72 7.72c-.78.78-.78 2.05 0 2.83L4 21.41c.39.39.9.59 1.41.59.51 0 1.02-.2 1.41-.59l7.78-7.78 2.81-2.81c.8-.78.8-2.07 0-2.86zM5.41 20L4 18.59l7.72-7.72 1.47 1.35L5.41 20z\"/>\n",
              "  </svg>\n",
              "      </button>\n",
              "      \n",
              "  <style>\n",
              "    .colab-df-container {\n",
              "      display:flex;\n",
              "      flex-wrap:wrap;\n",
              "      gap: 12px;\n",
              "    }\n",
              "\n",
              "    .colab-df-convert {\n",
              "      background-color: #E8F0FE;\n",
              "      border: none;\n",
              "      border-radius: 50%;\n",
              "      cursor: pointer;\n",
              "      display: none;\n",
              "      fill: #1967D2;\n",
              "      height: 32px;\n",
              "      padding: 0 0 0 0;\n",
              "      width: 32px;\n",
              "    }\n",
              "\n",
              "    .colab-df-convert:hover {\n",
              "      background-color: #E2EBFA;\n",
              "      box-shadow: 0px 1px 2px rgba(60, 64, 67, 0.3), 0px 1px 3px 1px rgba(60, 64, 67, 0.15);\n",
              "      fill: #174EA6;\n",
              "    }\n",
              "\n",
              "    [theme=dark] .colab-df-convert {\n",
              "      background-color: #3B4455;\n",
              "      fill: #D2E3FC;\n",
              "    }\n",
              "\n",
              "    [theme=dark] .colab-df-convert:hover {\n",
              "      background-color: #434B5C;\n",
              "      box-shadow: 0px 1px 3px 1px rgba(0, 0, 0, 0.15);\n",
              "      filter: drop-shadow(0px 1px 2px rgba(0, 0, 0, 0.3));\n",
              "      fill: #FFFFFF;\n",
              "    }\n",
              "  </style>\n",
              "\n",
              "      <script>\n",
              "        const buttonEl =\n",
              "          document.querySelector('#df-5c943b71-b058-4bca-a4f6-1a944937167f button.colab-df-convert');\n",
              "        buttonEl.style.display =\n",
              "          google.colab.kernel.accessAllowed ? 'block' : 'none';\n",
              "\n",
              "        async function convertToInteractive(key) {\n",
              "          const element = document.querySelector('#df-5c943b71-b058-4bca-a4f6-1a944937167f');\n",
              "          const dataTable =\n",
              "            await google.colab.kernel.invokeFunction('convertToInteractive',\n",
              "                                                     [key], {});\n",
              "          if (!dataTable) return;\n",
              "\n",
              "          const docLinkHtml = 'Like what you see? Visit the ' +\n",
              "            '<a target=\"_blank\" href=https://colab.research.google.com/notebooks/data_table.ipynb>data table notebook</a>'\n",
              "            + ' to learn more about interactive tables.';\n",
              "          element.innerHTML = '';\n",
              "          dataTable['output_type'] = 'display_data';\n",
              "          await google.colab.output.renderOutput(dataTable, element);\n",
              "          const docLink = document.createElement('div');\n",
              "          docLink.innerHTML = docLinkHtml;\n",
              "          element.appendChild(docLink);\n",
              "        }\n",
              "      </script>\n",
              "    </div>\n",
              "  </div>\n",
              "  "
            ]
          },
          "metadata": {},
          "execution_count": 41
        }
      ]
    },
    {
      "cell_type": "code",
      "source": [
        "# metrica = pd.DataFrame(metrica).T\n",
        "\n",
        "sns.barplot(data=sexes.T);\n",
        "\n",
        "# plt.title('')\n",
        "# plt.xlabel('Modelo')\n",
        "# plt.ylabel('')\n",
        "\n",
        "# plt.show()"
      ],
      "metadata": {
        "colab": {
          "base_uri": "https://localhost:8080/",
          "height": 452
        },
        "id": "pSndpHreNgzE",
        "outputId": "f10d92c4-b504-4021-9d4e-8a3de821bb24"
      },
      "execution_count": 43,
      "outputs": [
        {
          "output_type": "display_data",
          "data": {
            "text/plain": [
              "<Figure size 800x500 with 1 Axes>"
            ],
            "image/png": "[encoded data removed]"
          },
          "metadata": {}
        }
      ]
    },
    {
      "cell_type": "code",
      "source": [],
      "metadata": {
        "id": "IRyMNETQN5wr"
      },
      "execution_count": null,
      "outputs": []
    }
  ]
}