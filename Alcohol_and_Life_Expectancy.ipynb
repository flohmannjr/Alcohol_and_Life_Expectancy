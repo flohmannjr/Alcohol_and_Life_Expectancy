{
  "nbformat": 4,
  "nbformat_minor": 0,
  "metadata": {
    "colab": {
      "provenance": [],
      "toc_visible": true,
      "authorship_tag": "ABX9TyOS4LgFe8DW/zSlN+ZbU+jL",
      "include_colab_link": true
    },
    "kernelspec": {
      "name": "python3",
      "display_name": "Python 3"
    },
    "language_info": {
      "name": "python"
    }
  },
  "cells": [
    {
      "cell_type": "markdown",
      "metadata": {
        "id": "view-in-github",
        "colab_type": "text"
      },
      "source": [
        "<a href=\"https://colab.research.google.com/github/flohmannjr/Alcohol_and_Life_Expectancy/blob/main/Alcohol_and_Life_Expectancy.ipynb\" target=\"_parent\"><img src=\"https://colab.research.google.com/assets/colab-badge.svg\" alt=\"Open In Colab\"/></a>"
      ]
    },
    {
      "cell_type": "markdown",
      "source": [
        "# Alcohol and Life Expectancy"
      ],
      "metadata": {
        "id": "TGtDzZ4gxRkK"
      }
    },
    {
      "cell_type": "markdown",
      "source": [
        "Kaggle source: https://www.kaggle.com/datasets/thedevastator/relationship-between-alcohol-consumption-and-lif"
      ],
      "metadata": {
        "id": "ub3lvFQzxVqE"
      }
    },
    {
      "cell_type": "markdown",
      "source": [
        "# Imports"
      ],
      "metadata": {
        "id": "Etz8okTMxnAl"
      }
    },
    {
      "cell_type": "code",
      "source": [
        "import numpy as np\n",
        "import pandas as pd\n",
        "\n",
        "import matplotlib.pyplot as plt\n",
        "import seaborn as sns"
      ],
      "metadata": {
        "id": "tbHTpnTAxrsE"
      },
      "execution_count": 1,
      "outputs": []
    },
    {
      "cell_type": "markdown",
      "source": [
        "# Config"
      ],
      "metadata": {
        "id": "67gfDHA7x330"
      }
    },
    {
      "cell_type": "code",
      "source": [
        "plt.rcParams['figure.figsize'] = [8, 5]\n",
        "plt.rcParams['figure.dpi'] = 100\n",
        "\n",
        "plt.style.use('seaborn-darkgrid')\n",
        "\n",
        "SEED = 2008193"
      ],
      "metadata": {
        "id": "wDQWjmz6x9tN"
      },
      "execution_count": 2,
      "outputs": []
    },
    {
      "cell_type": "markdown",
      "source": [
        "# Data"
      ],
      "metadata": {
        "id": "8evkuEntx-0M"
      }
    },
    {
      "cell_type": "code",
      "source": [
        "df_drinks  = pd.read_csv('https://raw.githubusercontent.com/flohmannjr/Alcohol_and_Life_Expectancy/main/drinks.csv')\n",
        "df_lifeexp = pd.read_csv('https://raw.githubusercontent.com/flohmannjr/Alcohol_and_Life_Expectancy/main/lifeexpectancy-verbose.csv')"
      ],
      "metadata": {
        "id": "Hr0MCZ1uyO0c"
      },
      "execution_count": 3,
      "outputs": []
    },
    {
      "cell_type": "code",
      "source": [
        "df_drinks.info()"
      ],
      "metadata": {
        "colab": {
          "base_uri": "https://localhost:8080/"
        },
        "id": "7iniPB5C0y5P",
        "outputId": "d31b8212-9ffd-4d80-fec1-5d7cf1344619"
      },
      "execution_count": 4,
      "outputs": [
        {
          "output_type": "stream",
          "name": "stdout",
          "text": [
            "<class 'pandas.core.frame.DataFrame'>\n",
            "RangeIndex: 193 entries, 0 to 192\n",
            "Data columns (total 6 columns):\n",
            " #   Column                        Non-Null Count  Dtype  \n",
            "---  ------                        --------------  -----  \n",
            " 0   index                         193 non-null    int64  \n",
            " 1   country                       193 non-null    object \n",
            " 2   beer_servings                 193 non-null    int64  \n",
            " 3   spirit_servings               193 non-null    int64  \n",
            " 4   wine_servings                 193 non-null    int64  \n",
            " 5   total_litres_of_pure_alcohol  193 non-null    float64\n",
            "dtypes: float64(1), int64(4), object(1)\n",
            "memory usage: 9.2+ KB\n"
          ]
        }
      ]
    },
    {
      "cell_type": "markdown",
      "source": [
        "| **Column name**              | **Description**                                                  |\n",
        "|------------------------------|------------------------------------------------------------------|\n",
        "| country                      | Name of the country.                                             |\n",
        "| beer_servings                | Number of beer servings per person in the country.               |\n",
        "| spirit_servings              | Number of spirit servings per person in the country.             |\n",
        "| wine_servings                | Number of wine servings per person in the country.               |\n",
        "| total_litres_of_pure_alcohol | Total litres of pure alcohol consumed per person in the country. |"
      ],
      "metadata": {
        "id": "S17W5YdD3DWe"
      }
    },
    {
      "cell_type": "code",
      "source": [
        "df_lifeexp.info()"
      ],
      "metadata": {
        "colab": {
          "base_uri": "https://localhost:8080/"
        },
        "id": "txpDEJ2w099_",
        "outputId": "2cf62fdb-b034-4be7-afdf-51e35e78084b"
      },
      "execution_count": 5,
      "outputs": [
        {
          "output_type": "stream",
          "name": "stdout",
          "text": [
            "<class 'pandas.core.frame.DataFrame'>\n",
            "RangeIndex: 6408 entries, 0 to 6407\n",
            "Data columns (total 17 columns):\n",
            " #   Column                         Non-Null Count  Dtype  \n",
            "---  ------                         --------------  -----  \n",
            " 0   index                          6408 non-null   int64  \n",
            " 1   GhoCode                        6408 non-null   object \n",
            " 2   GhoDisplay                     6408 non-null   object \n",
            " 3   PublishStateCode               6408 non-null   object \n",
            " 4   PublishStateDisplay            6408 non-null   object \n",
            " 5   YearCode                       6408 non-null   int64  \n",
            " 6   YearDisplay                    6408 non-null   int64  \n",
            " 7   RegionCode                     6408 non-null   object \n",
            " 8   RegionDisplay                  6408 non-null   object \n",
            " 9   WorldBankIncomeGroupGroupCode  5244 non-null   object \n",
            " 10  WorldBankIncomeGroupDisplay    5244 non-null   object \n",
            " 11  CountryCode                    6408 non-null   object \n",
            " 12  CountryDisplay                 6408 non-null   object \n",
            " 13  SexCode                        6408 non-null   object \n",
            " 14  SexDisplay                     6408 non-null   object \n",
            " 15  DisplayValue                   6408 non-null   int64  \n",
            " 16  Numeric                        6408 non-null   float64\n",
            "dtypes: float64(1), int64(4), object(12)\n",
            "memory usage: 851.2+ KB\n"
          ]
        }
      ]
    },
    {
      "cell_type": "markdown",
      "source": [
        "| **Column name**               | **Description**                                 |\n",
        "|-------------------------------|-------------------------------------------------|\n",
        "| GhoCode                       | Global Health Observatory code                  |\n",
        "| GhoDisplay                    | Global Health Observatory display name          |\n",
        "| PublishStateCode              | Publish state code                              |\n",
        "| PublishStateDisplay           | Publish state display name                      |\n",
        "| YearCode                      | Year code                                       |\n",
        "| YearDisplay                   | Year display name                               |\n",
        "| RegionCode                    | Region code                                     |\n",
        "| RegionDisplay                 | Region display name                             |\n",
        "| WorldBankIncomeGroupGroupCode | World Bank Income Group Group Code              |\n",
        "| WorldBankIncomeGroupDisplay   | World Bank Income Group Display Name            |\n",
        "| CountryCode                   | Country code                                    |\n",
        "| CountryDisplay                | Country display name                            |\n",
        "| SexCode                       | Sex code                                        |\n",
        "| SexDisplay                    | Sex display name                                |\n",
        "| DisplayValue                  | Display value                                   |\n",
        "| Numeric                       | Numeric value                                   |"
      ],
      "metadata": {
        "id": "svM9GCtF4A47"
      }
    },
    {
      "cell_type": "code",
      "source": [],
      "metadata": {
        "id": "7D6ejktm1xQk"
      },
      "execution_count": null,
      "outputs": []
    }
  ]
}